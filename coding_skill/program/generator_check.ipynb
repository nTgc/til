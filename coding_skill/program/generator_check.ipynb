{
 "cells": [
  {
   "cell_type": "markdown",
   "metadata": {},
   "source": [
    "# ジェネレータ使用時のメモリ使用量比較"
   ]
  },
  {
   "cell_type": "code",
   "execution_count": 1,
   "metadata": {},
   "outputs": [],
   "source": [
    "%load_ext memory_profiler"
   ]
  },
  {
   "cell_type": "code",
   "execution_count": 2,
   "metadata": {},
   "outputs": [
    {
     "name": "stdout",
     "output_type": "stream",
     "text": [
      "Overwriting check_memory.py\n"
     ]
    }
   ],
   "source": [
    "%%writefile check_memory.py\n",
    "\n",
    "def test_list_process(length):\n",
    "    return [i*i for i in range(0,length)]\n",
    "\n",
    "\n",
    "def test_generator_process(length):\n",
    "    return (i*i for i in range(0,length))\n",
    "\n",
    "\n",
    "def check(length):\n",
    "    print(\"square_sum_list:\", sum(test_list_process(length)))\n",
    "    print(\"square_sum_generator:\", sum(test_generator_process(length)))"
   ]
  },
  {
   "cell_type": "code",
   "execution_count": 3,
   "metadata": {},
   "outputs": [],
   "source": [
    "from check_memory import check"
   ]
  },
  {
   "cell_type": "code",
   "execution_count": 4,
   "metadata": {},
   "outputs": [
    {
     "name": "stdout",
     "output_type": "stream",
     "text": [
      "square_sum_list: 333328333350000\n",
      "square_sum_generator: 333328333350000\n",
      "\n",
      "\n",
      "*** Profile printout saved to text file memory_result. \n"
     ]
    }
   ],
   "source": [
    "%mprun -T memory_result -f check check(100000)"
   ]
  },
  {
   "cell_type": "code",
   "execution_count": 5,
   "metadata": {},
   "outputs": [
    {
     "name": "stdout",
     "output_type": "stream",
     "text": [
      "Filename: /Users/taguchinaoki/workspace/study/til/coding_skill/program/check_memory.py\n",
      "\n",
      "Line #    Mem usage    Increment   Line Contents\n",
      "================================================\n",
      "    10     44.3 MiB     44.3 MiB   def check(length):\n",
      "    11     49.5 MiB      5.2 MiB       print(\"square_sum_list:\", sum(test_list_process(length)))\n",
      "    12     49.5 MiB      0.0 MiB       print(\"square_sum_generator:\", sum(test_generator_process(length)))\n"
     ]
    }
   ],
   "source": [
    "print(open('memory_result', 'r' ).read())"
   ]
  },
  {
   "cell_type": "markdown",
   "metadata": {},
   "source": [
    "上記結果から、listによる処理は5.2MiBの差がある"
   ]
  }
 ],
 "metadata": {
  "kernelspec": {
   "display_name": "Python 3",
   "language": "python",
   "name": "python3"
  },
  "language_info": {
   "codemirror_mode": {
    "name": "ipython",
    "version": 3
   },
   "file_extension": ".py",
   "mimetype": "text/x-python",
   "name": "python",
   "nbconvert_exporter": "python",
   "pygments_lexer": "ipython3",
   "version": "3.7.6"
  }
 },
 "nbformat": 4,
 "nbformat_minor": 4
}
